{
 "cells": [
  {
   "cell_type": "markdown",
   "id": "1da2cd7b",
   "metadata": {},
   "source": [
    "Let's check if nvcc is available"
   ]
  },
  {
   "cell_type": "code",
   "execution_count": 1,
   "id": "978e641b",
   "metadata": {},
   "outputs": [
    {
     "name": "stdout",
     "output_type": "stream",
     "text": [
      "nvcc: NVIDIA (R) Cuda compiler driver\r\n",
      "Copyright (c) 2005-2021 NVIDIA Corporation\r\n",
      "Built on Thu_Nov_18_09:45:30_PST_2021\r\n",
      "Cuda compilation tools, release 11.5, V11.5.119\r\n",
      "Build cuda_11.5.r11.5/compiler.30672275_0\r\n"
     ]
    }
   ],
   "source": [
    "!nvcc --version"
   ]
  },
  {
   "cell_type": "markdown",
   "id": "497cc090",
   "metadata": {},
   "source": [
    "Let's try to run the hello-world program. <br>\n",
    "The syntax is the following. <br>\n",
    "```nvcc -o output_exe input_code -run```"
   ]
  },
  {
   "cell_type": "code",
   "execution_count": 6,
   "id": "2dc86102",
   "metadata": {},
   "outputs": [
    {
     "name": "stdout",
     "output_type": "stream",
     "text": [
      "Hello from the CPU.\n",
      "Hello from the GPU.\n"
     ]
    }
   ],
   "source": [
    "!nvcc -o executables/hello codes/1_introduction/hello.cu -run"
   ]
  },
  {
   "cell_type": "code",
   "execution_count": null,
   "id": "511e1eb3",
   "metadata": {},
   "outputs": [],
   "source": []
  }
 ],
 "metadata": {
  "kernelspec": {
   "display_name": "Python 3 (ipykernel)",
   "language": "python",
   "name": "python3"
  },
  "language_info": {
   "codemirror_mode": {
    "name": "ipython",
    "version": 3
   },
   "file_extension": ".py",
   "mimetype": "text/x-python",
   "name": "python",
   "nbconvert_exporter": "python",
   "pygments_lexer": "ipython3",
   "version": "3.10.11"
  }
 },
 "nbformat": 4,
 "nbformat_minor": 5
}
