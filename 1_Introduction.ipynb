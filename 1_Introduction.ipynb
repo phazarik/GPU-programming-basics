{
 "cells": [
  {
   "cell_type": "markdown",
   "id": "0ee375d5",
   "metadata": {},
   "source": [
    "# Before going to the main content ...\n",
    "let's check if nvcc is available.<br>\n",
    "If it shows a report on the Cuda compiler driver, then we are good to go!"
   ]
  },
  {
   "cell_type": "code",
   "execution_count": 7,
   "id": "dd7ddeb4",
   "metadata": {
    "scrolled": true
   },
   "outputs": [
    {
     "name": "stdout",
     "output_type": "stream",
     "text": [
      "nvcc: NVIDIA (R) Cuda compiler driver\r\n",
      "Copyright (c) 2005-2021 NVIDIA Corporation\r\n",
      "Built on Thu_Nov_18_09:45:30_PST_2021\r\n",
      "Cuda compilation tools, release 11.5, V11.5.119\r\n",
      "Build cuda_11.5.r11.5/compiler.30672275_0\r\n"
     ]
    }
   ],
   "source": [
    "!nvcc --version"
   ]
  },
  {
   "cell_type": "markdown",
   "id": "59957f4f",
   "metadata": {},
   "source": [
    "# Hello world!\n",
    "\n",
    "Let's try to run the hello-world program.<br>\n",
    "Let me explain the code first.<br>\n",
    "The code is located in this directory : ```codes/1_introduction/```<br>\n",
    "It is a ```.cu``` file, which looks very similar to a ```.c``` file.<br>\n",
    "However, some necessary changes have to be made.\n",
    "- The function that runs in GPU is a ```__global__ void``` type.\n",
    "- GPU functions ALWAYS have to be ```void``` type. (please confirm this!)\n",
    "- The syntax for calling the GPU function is : ```func <<<nbatch, nthread>>>();```\n",
    "- The output of the GPU is collected after synchronizing with the CPU by doing ```cudaDeviceSynchronize();```.<br>\n",
    "\n",
    "The syntax for compiling and running is the following. <br>\n",
    "```nvcc -o output_exe input_code -run```<br>\n",
    "\n",
    "In this particular example, there are three parts.<br>\n",
    "\n",
    "#### A function that runs on the CPU:\n",
    "```\n",
    "void helloCPU(){\n",
    "    printf(\"Hello from the CPU.\\n\");\n",
    "}\n",
    "```\n",
    "#### A function that runs on the GPU:\n",
    "\n",
    "```\n",
    "__global__ void helloGPU(){\n",
    "    printf(\"Hello from the GPU.\\n\");\n",
    "}\n",
    "```\n",
    "#### A main function:\n",
    "```\n",
    "int main(){\n",
    "    helloCPU();\n",
    "    helloGPU<<<1, 1>>>();\n",
    "    cudaDeviceSynchronize();\n",
    "}\n",
    "```\n",
    "Inside the main function, after compilation, the CPU runs the ```helloCPU()``` function just like a regular C program. Then the ```helloGPU()``` function is sent to block=1 and thread=1 of the GPU. So this only runs once. After that, ```cudaDeviceSynchronize()``` makes sure that the GPU and the CPU are synchronized. Now, the output from the GPU is available to the CPU, so that \"Hello from the GPU\" can be printed on the screen."
   ]
  },
  {
   "cell_type": "code",
   "execution_count": 8,
   "id": "3e57140d",
   "metadata": {},
   "outputs": [
    {
     "name": "stdout",
     "output_type": "stream",
     "text": [
      "Hello from the CPU.\n",
      "Hello from the GPU.\n"
     ]
    }
   ],
   "source": [
    "!nvcc -o executables/hello codes/1_introduction/hello.cu -run"
   ]
  },
  {
   "cell_type": "code",
   "execution_count": null,
   "id": "11ad0a55",
   "metadata": {},
   "outputs": [],
   "source": []
  }
 ],
 "metadata": {
  "kernelspec": {
   "display_name": "Python 3 (ipykernel)",
   "language": "python",
   "name": "python3"
  },
  "language_info": {
   "codemirror_mode": {
    "name": "ipython",
    "version": 3
   },
   "file_extension": ".py",
   "mimetype": "text/x-python",
   "name": "python",
   "nbconvert_exporter": "python",
   "pygments_lexer": "ipython3",
   "version": "3.10.11"
  }
 },
 "nbformat": 4,
 "nbformat_minor": 5
}
